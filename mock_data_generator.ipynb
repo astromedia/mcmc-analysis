{
 "cells": [
  {
   "cell_type": "markdown",
   "metadata": {},
   "source": [
    "# Mock data generator\n",
    "\n",
    "© Pablo Jimeno - 2018\n",
    "\n",
    "Use this code to generate some mock data to test the `mcmc_analysis` code.\n",
    "* The data will be saved in `mock_data.csv`, located in the `working_dir` directory.\n",
    "* Data generated is of the form: [ id, x, y, $\\sigma_y$ ].\n",
    "* There is no covariance between the points."
   ]
  },
  {
   "cell_type": "markdown",
   "metadata": {},
   "source": [
    "### Initialization\n",
    "\n",
    "* Import code packages.\n",
    "* Set working directory `working_dir`."
   ]
  },
  {
   "cell_type": "code",
   "execution_count": 1,
   "metadata": {},
   "outputs": [],
   "source": [
    "import os\n",
    "import pickle\n",
    "import numpy as np\n",
    "import pandas as pd\n",
    "import matplotlib\n",
    "import matplotlib.pyplot as plt\n",
    "import style_plots\n",
    "plt.style.use(style_plots.style)\n",
    "%matplotlib notebook\n",
    "from scipy.optimize import minimize\n",
    "from scipy.special import logsumexp\n",
    "import warnings\n",
    "warnings.simplefilter(action='ignore', category=FutureWarning)\n",
    "import emcee\n",
    "from getdist import plots, MCSamples\n",
    "from utilities_mcmc_analysis import *\n",
    "\n",
    "#working_dir = '/path/to/working/dir'\n",
    "working_dir = os.getcwd()"
   ]
  },
  {
   "cell_type": "markdown",
   "metadata": {},
   "source": [
    "### Define model function and data range\n",
    "\n",
    "Define:\n",
    "\n",
    "1. `mock_data_function`: the model function which we will try to fit.\n",
    "2. `params_true`: the \"real\" parameters of the mock data function.\n",
    "3. `x_min`, `x_max`: the x range in which to generate mock data.\n",
    "4. `n_points`: number of data points to be generated.\n",
    "5. `minimum_noise`: the minimum amount of error in each point.\n",
    "6. `level_noise`: extra error will be drawn from [0, noise_level)"
   ]
  },
  {
   "cell_type": "code",
   "execution_count": 32,
   "metadata": {},
   "outputs": [],
   "source": [
    "def mock_data_function(x_input, A, B, C):\n",
    "    x = x_input[0]\n",
    "    return A + B*x + C*x**2\n",
    "\n",
    "params_true = (10., 1., 0.3)\n",
    "\n",
    "x_min, x_max = -2., 10.\n",
    "\n",
    "n_points = 20\n",
    "\n",
    "minimum_noise = 1.\n",
    "level_noise = 2.5"
   ]
  },
  {
   "cell_type": "markdown",
   "metadata": {},
   "source": [
    "### Generate mock data\n",
    "\n",
    "Each time the cell below is executed, a new mock data set is generated and plotted."
   ]
  },
  {
   "cell_type": "code",
   "execution_count": 82,
   "metadata": {},
   "outputs": [
    {
     "data": {
      "image/png": "[encoded data removed]",
      "text/plain": [
       "<Figure size 720x432 with 1 Axes>"
      ]
     },
     "metadata": {
      "needs_background": "light"
     },
     "output_type": "display_data"
    }
   ],
   "source": [
    "#================================================================================\n",
    "## Create some model values to plot the \"real\" model:\n",
    "x_model = np.linspace(2*x_min, 2*x_max, 100)\n",
    "y_model = mock_data_function([x_model], *params_true)\n",
    "\n",
    "## Then, create some mock data, first without noise:\n",
    "\n",
    "x_data = np.sort(np.random.random(n_points)*(x_max - x_min) + x_min)\n",
    "y_true = mock_data_function([x_data], *params_true)\n",
    "\n",
    "## And then, generate some noise:\n",
    "y_error = minimum_noise + level_noise*np.random.random(len(y_true)) # Generates \n",
    "\n",
    "## And displace the data as a function of that error:\n",
    "y_data = y_true + y_error*np.random.normal(size=len(y_true)) # 1 sigma (gaussian) error\n",
    "\n",
    "## Finally, we add some mock outliers in the [x_min - x_max, y_min - y_max] range:\n",
    "n_outl = 3\n",
    "x_outl = np.random.random(n_outl)*(x_max - x_min) + x_min\n",
    "y_outl = np.random.random(n_outl)*(y_data.max() - y_data.min()) + y_data.min()\n",
    "y_error_outl = minimum_noise + level_noise*np.random.random(n_outl) ## Genera un valor entre [0, noise_level)\n",
    "\n",
    "x_data = np.concatenate((x_data, x_outl), axis=0)\n",
    "y_data = np.concatenate((y_data, y_outl), axis=0)\n",
    "y_error = np.concatenate((y_error, y_error_outl), axis=0)\n",
    "\n",
    "so = np.argsort(x_data)\n",
    "data = np.array([x_data[so], y_data[so], y_error[so]]).T\n",
    "\n",
    "#================================================================================\n",
    "## Plot the resulting data:\n",
    "\n",
    "\n",
    "plt_input_data = [data[:,0]]\n",
    "plt_y_data = (data[:,1], data[:,2])\n",
    "\n",
    "plt_data = (plt_input_data, plt_y_data)\n",
    "\n",
    "plot_data(None, plt_data, include_model_func=mock_data_function, model_params=params_true, save=False)"
   ]
  },
  {
   "cell_type": "markdown",
   "metadata": {},
   "source": [
    "### Save the mock data\n",
    "\n",
    "Mock data is saved to `mock_data.csv`, located in `working_dir`."
   ]
  },
  {
   "cell_type": "code",
   "execution_count": 83,
   "metadata": {},
   "outputs": [],
   "source": [
    "#================================================================================\n",
    "## Save the mock data:\n",
    "\n",
    "filename = '{}/mock_data.csv'.format(working_dir)\n",
    "\n",
    "df = pd.DataFrame(data, columns=['x', 'y', 'y_err'])\n",
    "\n",
    "df.to_csv(filename, header=True, index_label='id', float_format='%10.5f',\n",
    "          encoding='utf-8')   "
   ]
  }
 ],
 "metadata": {
  "kernelspec": {
   "display_name": "Python 3",
   "language": "python",
   "name": "python3"
  },
  "language_info": {
   "codemirror_mode": {
    "name": "ipython",
    "version": 3
   },
   "file_extension": ".py",
   "mimetype": "text/x-python",
   "name": "python",
   "nbconvert_exporter": "python",
   "pygments_lexer": "ipython3",
   "version": "3.6.7"
  }
 },
 "nbformat": 4,
 "nbformat_minor": 1
}
